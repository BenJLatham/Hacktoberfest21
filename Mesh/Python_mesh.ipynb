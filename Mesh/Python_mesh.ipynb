{
 "cells": [
  {
   "cell_type": "code",
   "execution_count": 1,
   "metadata": {},
   "outputs": [],
   "source": [
    "import sys\n",
    "#edit below to include your directory as needed\n",
    "#sys.path.append(\"/Users/blatham/Hacktoberfest21\")\n",
    "#sys.path.append(\"/Library/Frameworks/Python.framework/Versions/3.8/lib/python3.8/site-packages\")\n",
    "import gmsh\n",
    "import numpy as np"
   ]
  },
  {
   "cell_type": "code",
   "execution_count": 2,
   "metadata": {},
   "outputs": [],
   "source": [
    "#begin Model\n",
    "gmsh.initialize()\n",
    "gmsh.model.add('clover_mesh')"
   ]
  },
  {
   "cell_type": "code",
   "execution_count": 3,
   "metadata": {},
   "outputs": [],
   "source": [
    "#Parameters\n",
    "h = 0.1\n",
    "l = 0\n",
    "L = 2\n",
    "delta = 0.5\n",
    "LL = L+ delta\n",
    "Angle1 = np.pi/4\n",
    "Angle2 = np.pi/6\n",
    "C = np.cos(Angle1)\n",
    "S = np.sin(Angle1)\n",
    "Cp = np.cos(Angle1 + Angle2)\n",
    "Cm = np.cos(Angle1 - Angle2)\n",
    "Sp = np.sin(Angle1 + Angle2)\n",
    "Sm = np.sin(Angle1 - Angle2)\n",
    "Cph = np.cos(Angle1 + 0.5 * Angle2)\n",
    "Cmh = np.cos(Angle1 - 0.5 * Angle2)\n",
    "Sph = np.sin(Angle1 + 0.5 * Angle2)\n",
    "Smh = np.sin(Angle1 - 0.5 * Angle2)\n",
    "Rx = np.abs(L*Cp - 0.5*L*(Cp+0.5*(Cp+Cm)))\n",
    "Ry = np.abs(L*Sp - 0.5*L*(Sp+0.5*(Sp+Sm)))\n",
    "R = np.sqrt(Rx**2 + Ry**2)\n",
    "InnerCircleRadius=0.3"
   ]
  },
  {
   "cell_type": "code",
   "execution_count": 4,
   "metadata": {},
   "outputs": [],
   "source": [
    "#Points\n",
    "Points=[]\n",
    "Points.append((l*Cp, l*Sp, 0, h))\n",
    "Points.append((L*Cp, L*Sp, 0, h))\n",
    "Points.append((0.5* L* (Cp+Cm), 0.5* L* (Sp+Sm), 0, h))\n",
    "#The below point is commented out in the original mesh - not sure if it is to be included.\n",
    "Points.append((l*Cm, l*Sm, 0, h))\n",
    "Points.append((L*Cm, L*Sm, 0, h))\n",
    "Points.append((0.5*L*(Cp+0.5*(Cp+Cm)), 0.5*L*(Sp+0.5*(Sp+Sm)), 0, h))\n",
    "Points.append((0.5*L*(Cm+0.5*(Cp+Cm)), 0.5*L*(Sm+0.5*(Sp+Sm)), 0, h))\n",
    "Points.append((0.5*L*(Cp+0.5*(Cp+Cm))+R*np.cos(np.pi/4), 0.5*L*(Sp+0.5*(Sp+Sm))+R*np.sin(np.pi/4), 0, h))\n",
    "Points.append((0.5*L*(Cm+0.5*(Cp+Cm))+R*np.cos(np.pi/4), 0.5*L*(Sm+0.5*(Sp+Sm))+R*np.sin(np.pi/4), 0, h))\n",
    "\n",
    "Points.append((InnerCircleRadius*Cp,InnerCircleRadius*Sp,0,h))\n",
    "Points.append((InnerCircleRadius*Cm,InnerCircleRadius*Sm,0,h))\n",
    "Points.append((InnerCircleRadius,0,0,h))\n",
    "Points.append((0,InnerCircleRadius,0,h))\n",
    "#Points.append((InnerCircleRadius*np.cos(np.pi/4),InnerCircleRadius*(np.cos(np.pi/4)),0,h))\n",
    "geoPoints= [gmsh.model.geo.addPoint(*p) for p in Points]"
   ]
  },
  {
   "cell_type": "code",
   "execution_count": 5,
   "metadata": {},
   "outputs": [
    {
     "data": {
      "text/plain": [
       "[1, 2, 3, 4, 5, 6, 7, 8, 9, 10, 11, 12, 13]"
      ]
     },
     "execution_count": 5,
     "metadata": {},
     "output_type": "execute_result"
    }
   ],
   "source": [
    "geoPoints"
   ]
  },
  {
   "cell_type": "code",
   "execution_count": 6,
   "metadata": {},
   "outputs": [],
   "source": [
    "#Lines\n",
    "Lines=[]\n",
    "Lines.append((10,2))\n",
    "Lines.append((11,5))\n",
    "#Lines.append((1,10))\n",
    "#Lines.append((1,11))\n",
    "Lines.append((1,12))\n",
    "Lines.append((1,13))\n",
    "geoLines=[gmsh.model.geo.addLine(*L) for L in Lines]"
   ]
  },
  {
   "cell_type": "code",
   "execution_count": 7,
   "metadata": {},
   "outputs": [],
   "source": [
    "#Circles\n",
    "Circles=[]\n",
    "Circles.append((2,6,8))\n",
    "Circles.append((8,6,3))\n",
    "Circles.append((3,7,9))\n",
    "Circles.append((9,7,5))\n",
    "Circles.append((12,1,11))\n",
    "Circles.append((10,1,13))\n",
    "\n",
    "geoCircles=[gmsh.model.geo.addCircleArc(*C) for C in Circles]"
   ]
  },
  {
   "cell_type": "code",
   "execution_count": 8,
   "metadata": {
    "scrolled": true
   },
   "outputs": [
    {
     "data": {
      "text/plain": [
       "array([1], dtype=int32)"
      ]
     },
     "execution_count": 8,
     "metadata": {},
     "output_type": "execute_result"
    }
   ],
   "source": [
    "#loop and surface\n",
    "gmsh.model.geo.addCurveLoops((3,9,1,5,6,7,8,-2,10,-4))"
   ]
  },
  {
   "cell_type": "code",
   "execution_count": 9,
   "metadata": {
    "scrolled": true
   },
   "outputs": [
    {
     "data": {
      "text/plain": [
       "1"
      ]
     },
     "execution_count": 9,
     "metadata": {},
     "output_type": "execute_result"
    }
   ],
   "source": [
    "Surfaces=[]\n",
    "gmsh.model.geo.addPlaneSurface([1])"
   ]
  },
  {
   "cell_type": "code",
   "execution_count": 10,
   "metadata": {},
   "outputs": [],
   "source": [
    "Surfaces.append([(2,1)])\n",
    "Surfaces.append(gmsh.model.geo.copy([(2,1)]))\n",
    "gmsh.model.geo.symmetrize(Surfaces[1],1,0,0,0)\n",
    "Surfaces.append(gmsh.model.geo.copy([(2,1)]))\n",
    "gmsh.model.geo.symmetrize(Surfaces[2],0,1,0,0)\n",
    "Surfaces.append(gmsh.model.geo.copy([(2,1)]))\n",
    "gmsh.model.geo.symmetrize(Surfaces[3],1,1,0,0)"
   ]
  },
  {
   "cell_type": "code",
   "execution_count": 11,
   "metadata": {},
   "outputs": [
    {
     "data": {
      "text/plain": [
       "1"
      ]
     },
     "execution_count": 11,
     "metadata": {},
     "output_type": "execute_result"
    }
   ],
   "source": [
    "gmsh.model.geo.addSurfaceLoop((1,11,21,32))"
   ]
  },
  {
   "cell_type": "code",
   "execution_count": 12,
   "metadata": {},
   "outputs": [],
   "source": [
    "Interface=gmsh.model.geo.addPhysicalGroup(1,(9,2,8,7,6,5,-1,10,20,19,18,17,16,15,-14,13,41,40,39,38,37,36,-35,34,30,29,28,27,26,25,-24,23))\n",
    "gmsh.model.setPhysicalName(1,Interface,'Interface')"
   ]
  },
  {
   "cell_type": "code",
   "execution_count": 13,
   "metadata": {},
   "outputs": [],
   "source": [
    "clover=gmsh.model.geo.addPhysicalGroup(2,(1,11,21,32))\n",
    "gmsh.model.setPhysicalName(2,clover,'clover')"
   ]
  },
  {
   "cell_type": "code",
   "execution_count": 14,
   "metadata": {},
   "outputs": [],
   "source": [
    "gmsh.model.geo.synchronize()"
   ]
  },
  {
   "cell_type": "code",
   "execution_count": 15,
   "metadata": {
    "scrolled": true
   },
   "outputs": [
    {
     "data": {
      "text/plain": [
       "[(0, 1),\n",
       " (0, 2),\n",
       " (0, 3),\n",
       " (0, 5),\n",
       " (0, 6),\n",
       " (0, 7),\n",
       " (0, 8),\n",
       " (0, 9),\n",
       " (0, 10),\n",
       " (0, 11),\n",
       " (0, 12),\n",
       " (0, 13),\n",
       " (0, 15),\n",
       " (0, 20),\n",
       " (0, 24),\n",
       " (0, 28),\n",
       " (0, 29),\n",
       " (0, 34),\n",
       " (0, 38),\n",
       " (0, 39),\n",
       " (0, 44),\n",
       " (0, 48),\n",
       " (0, 55),\n",
       " (0, 59),\n",
       " (0, 63),\n",
       " (0, 64),\n",
       " (0, 69),\n",
       " (0, 73),\n",
       " (0, 74),\n",
       " (0, 79),\n",
       " (0, 83),\n",
       " (0, 88),\n",
       " (0, 95),\n",
       " (0, 99),\n",
       " (0, 103),\n",
       " (0, 104),\n",
       " (0, 109),\n",
       " (0, 113),\n",
       " (0, 114),\n",
       " (0, 119),\n",
       " (0, 123),\n",
       " (1, 1),\n",
       " (1, 2),\n",
       " (1, 3),\n",
       " (1, 4),\n",
       " (1, 5),\n",
       " (1, 6),\n",
       " (1, 7),\n",
       " (1, 8),\n",
       " (1, 9),\n",
       " (1, 10),\n",
       " (1, 12),\n",
       " (1, 13),\n",
       " (1, 14),\n",
       " (1, 15),\n",
       " (1, 16),\n",
       " (1, 17),\n",
       " (1, 18),\n",
       " (1, 19),\n",
       " (1, 20),\n",
       " (1, 23),\n",
       " (1, 24),\n",
       " (1, 25),\n",
       " (1, 26),\n",
       " (1, 27),\n",
       " (1, 28),\n",
       " (1, 29),\n",
       " (1, 30),\n",
       " (1, 31),\n",
       " (1, 34),\n",
       " (1, 35),\n",
       " (1, 36),\n",
       " (1, 37),\n",
       " (1, 38),\n",
       " (1, 39),\n",
       " (1, 40),\n",
       " (1, 41),\n",
       " (2, 1),\n",
       " (2, 11),\n",
       " (2, 21),\n",
       " (2, 32)]"
      ]
     },
     "execution_count": 15,
     "metadata": {},
     "output_type": "execute_result"
    }
   ],
   "source": [
    "gmsh.model.getEntities()"
   ]
  },
  {
   "cell_type": "code",
   "execution_count": 16,
   "metadata": {
    "scrolled": true
   },
   "outputs": [
    {
     "name": "stdout",
     "output_type": "stream",
     "text": [
      "Info    : Meshing 1D...\n",
      "Info    : [  0%] Meshing curve 1 (Line)\n",
      "Info    : [ 10%] Meshing curve 2 (Line)\n",
      "Info    : [ 10%] Meshing curve 3 (Line)\n",
      "Info    : [ 10%] Meshing curve 4 (Line)\n",
      "Info    : [ 20%] Meshing curve 5 (Circle)\n",
      "Info    : [ 20%] Meshing curve 6 (Circle)\n",
      "Info    : [ 20%] Meshing curve 7 (Circle)\n",
      "Info    : [ 20%] Meshing curve 8 (Circle)\n",
      "Info    : [ 30%] Meshing curve 9 (Circle)\n",
      "Info    : [ 30%] Meshing curve 10 (Circle)\n",
      "Info    : [ 30%] Meshing curve 12 (Line)\n",
      "Info    : [ 40%] Meshing curve 13 (Circle)\n",
      "Info    : [ 40%] Meshing curve 14 (Line)\n",
      "Info    : [ 40%] Meshing curve 15 (Circle)\n",
      "Info    : [ 40%] Meshing curve 16 (Circle)\n",
      "Info    : [ 50%] Meshing curve 17 (Circle)\n",
      "Info    : [ 50%] Meshing curve 18 (Circle)\n",
      "Info    : [ 50%] Meshing curve 19 (Line)\n",
      "Info    : [ 50%] Meshing curve 20 (Circle)\n",
      "Info    : [ 60%] Meshing curve 23 (Circle)\n",
      "Info    : [ 60%] Meshing curve 24 (Line)\n",
      "Info    : [ 60%] Meshing curve 25 (Circle)\n",
      "Info    : [ 70%] Meshing curve 26 (Circle)\n",
      "Info    : [ 70%] Meshing curve 27 (Circle)\n",
      "Info    : [ 70%] Meshing curve 28 (Circle)\n",
      "Info    : [ 70%] Meshing curve 29 (Line)\n",
      "Info    : [ 80%] Meshing curve 30 (Circle)\n",
      "Info    : [ 80%] Meshing curve 31 (Line)\n",
      "Info    : [ 80%] Meshing curve 34 (Circle)\n",
      "Info    : [ 90%] Meshing curve 35 (Line)\n",
      "Info    : [ 90%] Meshing curve 36 (Circle)\n",
      "Info    : [ 90%] Meshing curve 37 (Circle)\n",
      "Info    : [ 90%] Meshing curve 38 (Circle)\n",
      "Info    : [100%] Meshing curve 39 (Circle)\n",
      "Info    : [100%] Meshing curve 40 (Line)\n",
      "Info    : [100%] Meshing curve 41 (Circle)\n",
      "Info    : Done meshing 1D (Wall 0.00280859s, CPU 0.00387s)\n",
      "Info    : Meshing 2D...\n",
      "Info    : [  0%] Meshing surface 1 (Plane, Frontal-Delaunay)\n",
      "Info    : [ 30%] Meshing surface 11 (Plane, Frontal-Delaunay)\n",
      "Info    : [ 50%] Meshing surface 21 (Plane, Frontal-Delaunay)\n",
      "Info    : [ 80%] Meshing surface 32 (Plane, Frontal-Delaunay)\n",
      "Info    : Done meshing 2D (Wall 0.0503629s, CPU 0.050119s)\n",
      "Info    : 1419 nodes 2873 elements\n",
      "Info    : Writing 'clover_mesh.msh'...\n",
      "Info    : Done writing 'clover_mesh.msh'\n"
     ]
    }
   ],
   "source": [
    "#meshing\n",
    "gmsh.model.mesh.generate(2)\n",
    "gmsh.option.setNumber(\"Mesh.MshFileVersion\",2.2)\n",
    "\n",
    "gmsh.write('clover_mesh.msh')"
   ]
  },
  {
   "cell_type": "code",
   "execution_count": 17,
   "metadata": {
    "code_folding": [],
    "scrolled": true
   },
   "outputs": [],
   "source": [
    "#optional gui cell to see mesh, uncomment if wanted\n",
    "#gmsh.fltk.run()"
   ]
  },
  {
   "cell_type": "code",
   "execution_count": 18,
   "metadata": {},
   "outputs": [],
   "source": [
    "#closing\n",
    "\n",
    "gmsh.finalize()"
   ]
  },
  {
   "cell_type": "code",
   "execution_count": null,
   "metadata": {},
   "outputs": [],
   "source": []
  }
 ],
 "metadata": {
  "kernelspec": {
   "display_name": "Python 3 (ipykernel)",
   "language": "python",
   "name": "python3"
  },
  "language_info": {
   "codemirror_mode": {
    "name": "ipython",
    "version": 3
   },
   "file_extension": ".py",
   "mimetype": "text/x-python",
   "name": "python",
   "nbconvert_exporter": "python",
   "pygments_lexer": "ipython3",
   "version": "3.8.3"
  }
 },
 "nbformat": 4,
 "nbformat_minor": 4
}
