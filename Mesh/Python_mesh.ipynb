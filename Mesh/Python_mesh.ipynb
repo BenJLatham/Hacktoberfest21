{
 "cells": [
  {
   "cell_type": "code",
   "execution_count": 1,
   "metadata": {},
   "outputs": [],
   "source": [
    "import sys\n",
    "#edit below to include your directory as needed\n",
    "#sys.path.append(\"/Users/blatham/Hacktoberfest21\")\n",
    "#sys.path.append(\"/Library/Frameworks/Python.framework/Versions/3.8/lib/python3.8/site-packages\")\n",
    "import gmsh \n",
    "import numpy as np"
   ]
  },
  {
   "cell_type": "code",
   "execution_count": 2,
   "metadata": {},
   "outputs": [],
   "source": [
    "#begin Model\n",
    "gmsh.initialize()\n",
    "gmsh.model.add('clover_mesh')"
   ]
  },
  {
   "cell_type": "code",
   "execution_count": 3,
   "metadata": {},
   "outputs": [],
   "source": [
    "#Parameters\n",
    "h = 0.1\n",
    "l = 0\n",
    "L = 2\n",
    "delta = 0.5\n",
    "LL = L+ delta\n",
    "Angle1 = np.pi/4\n",
    "Angle2 = np.pi/6\n",
    "C = np.cos(Angle1)\n",
    "S = np.sin(Angle1)\n",
    "Cp = np.cos(Angle1 + Angle2)\n",
    "Cm = np.cos(Angle1 - Angle2)\n",
    "Sp = np.sin(Angle1 + Angle2)\n",
    "Sm = np.sin(Angle1 - Angle2)\n",
    "Cph = np.cos(Angle1 + 0.5 * Angle2)\n",
    "Cmh = np.cos(Angle1 - 0.5 * Angle2)\n",
    "Sph = np.sin(Angle1 + 0.5 * Angle2)\n",
    "Smh = np.sin(Angle1 - 0.5 * Angle2)\n",
    "Rx = np.abs(L*Cp - 0.5*L*(Cp+0.5*(Cp+Cm)))\n",
    "Ry = np.abs(L*Sp - 0.5*L*(Sp+0.5*(Sp+Sm)))\n",
    "R = np.sqrt(Rx**2 + Ry**2)"
   ]
  },
  {
   "cell_type": "code",
   "execution_count": 4,
   "metadata": {},
   "outputs": [],
   "source": [
    "#Points\n",
    "Points=[]\n",
    "Points.append((l*Cp, l*Sp, 0, h))\n",
    "Points.append((L*Cp, L*Sp, 0, h))\n",
    "Points.append((0.5* L* (Cp+Cm), 0.5* L* (Sp+Sm), 0, h))\n",
    "#The below point is commented out in the original mesh - not sure if it is to be included.\n",
    "Points.append((l*Cm, l*Sm, 0, h))\n",
    "Points.append((L*Cm, L*Sm, 0, h))\n",
    "Points.append((0.5*L*(Cp+0.5*(Cp+Cm)), 0.5*L*(Sp+0.5*(Sp+Sm)), 0, h))\n",
    "Points.append((0.5*L*(Cm+0.5*(Cp+Cm)), 0.5*L*(Sm+0.5*(Sp+Sm)), 0, h))\n",
    "Points.append((0.5*L*(Cp+0.5*(Cp+Cm))+R*np.cos(np.pi/4), 0.5*L*(Sp+0.5*(Sp+Sm))+R*np.sin(np.pi/4), 0, h))\n",
    "Points.append((0.5*L*(Cm+0.5*(Cp+Cm))+R*np.cos(np.pi/4), 0.5*L*(Sm+0.5*(Sp+Sm))+R*np.sin(np.pi/4), 0, h))\n",
    "\n",
    "geoPoints= [gmsh.model.geo.addPoint(*p) for p in Points]"
   ]
  },
  {
   "cell_type": "code",
   "execution_count": 5,
   "metadata": {},
   "outputs": [],
   "source": [
    "#Lines\n",
    "Lines=[]\n",
    "Lines.append((1,2))\n",
    "Lines.append((1,5))\n",
    "\n",
    "geoLines=[gmsh.model.geo.addLine(*L) for L in Lines]"
   ]
  },
  {
   "cell_type": "code",
   "execution_count": 6,
   "metadata": {},
   "outputs": [],
   "source": [
    "#Circles\n",
    "Circles=[]\n",
    "Circles.append((2,6,8))\n",
    "Circles.append((8,6,3))\n",
    "Circles.append((3,7,9))\n",
    "Circles.append((9,7,5))\n",
    "\n",
    "geoCircles=[gmsh.model.geo.addCircleArc(*C) for C in Circles]"
   ]
  },
  {
   "cell_type": "code",
   "execution_count": 7,
   "metadata": {},
   "outputs": [
    {
     "data": {
      "text/plain": [
       "array([1], dtype=int32)"
      ]
     },
     "execution_count": 7,
     "metadata": {},
     "output_type": "execute_result"
    }
   ],
   "source": [
    "#loop and surface\n",
    "gmsh.model.geo.addCurveLoops((1,3,4,5,6,-2))"
   ]
  },
  {
   "cell_type": "code",
   "execution_count": 8,
   "metadata": {
    "scrolled": true
   },
   "outputs": [
    {
     "data": {
      "text/plain": [
       "1"
      ]
     },
     "execution_count": 8,
     "metadata": {},
     "output_type": "execute_result"
    }
   ],
   "source": [
    "gmsh.model.geo.addPlaneSurface([1])"
   ]
  },
  {
   "cell_type": "code",
   "execution_count": 9,
   "metadata": {},
   "outputs": [],
   "source": [
    "#Can use gmsh.model.geo.rotate or symmetrize here to make all four leaves?"
   ]
  },
  {
   "cell_type": "code",
   "execution_count": 10,
   "metadata": {},
   "outputs": [],
   "source": [
    "#meshing\n",
    "gmsh.model.geo.synchronize()\n",
    "gmsh.model.mesh.generate(2)\n",
    "gmsh.option.setNumber(\"Mesh.MshFileVersion\",2.2)\n",
    "gmsh.write('clover_mesh.msh')"
   ]
  },
  {
   "cell_type": "code",
   "execution_count": 11,
   "metadata": {},
   "outputs": [],
   "source": [
    "#optional gui cell to see mesh, uncomment if wanted\n",
    "gmsh.fltk.run()"
   ]
  },
  {
   "cell_type": "code",
   "execution_count": 12,
   "metadata": {},
   "outputs": [],
   "source": [
    "#closing\n",
    "\n",
    "gmsh.finalize()"
   ]
  },
  {
   "cell_type": "code",
   "execution_count": null,
   "metadata": {},
   "outputs": [],
   "source": []
  }
 ],
 "metadata": {
  "kernelspec": {
   "display_name": "Python 3",
   "language": "python",
   "name": "python3"
  },
  "language_info": {
   "codemirror_mode": {
    "name": "ipython",
    "version": 3
   },
   "file_extension": ".py",
   "mimetype": "text/x-python",
   "name": "python",
   "nbconvert_exporter": "python",
   "pygments_lexer": "ipython3",
   "version": "3.7.7"
  }
 },
 "nbformat": 4,
 "nbformat_minor": 4
}
