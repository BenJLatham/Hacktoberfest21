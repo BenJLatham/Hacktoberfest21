{
 "cells": [
  {
   "cell_type": "markdown",
   "metadata": {},
   "source": [
    "## FEM for the clover "
   ]
  },
  {
   "cell_type": "code",
   "execution_count": 6,
   "metadata": {},
   "outputs": [],
   "source": [
    "from ngsolve import *\n",
    "from netgen.read_gmsh import ReadGmsh\n",
    "from netgen.csg import *\n",
    "import numpy as np\n",
    "import meshio\n",
    "import scipy.special as sc\n",
    "import scipy.sparse as sp"
   ]
  },
  {
   "cell_type": "code",
   "execution_count": 2,
   "metadata": {},
   "outputs": [],
   "source": [
    "#create mesh\n",
    "mesh = Mesh(ReadGmsh(\"clover_mesh.msh\"))"
   ]
  },
  {
   "cell_type": "code",
   "execution_count": 5,
   "metadata": {},
   "outputs": [],
   "source": [
    "List_of_mats = ['metal', 'vacuum']\n",
    "hankel = lambda n, k : sc.hankel1(n,k)\n",
    "dhankel = lambda n, k : sc.h1vp(n,k,1)"
   ]
  },
  {
   "cell_type": "code",
   "execution_count": 11,
   "metadata": {},
   "outputs": [],
   "source": [
    "def FEM(epsm,order,k,DtN_tol):\n",
    "    #define epsilon parameter\n",
    "    epsv=1\n",
    "    eps_val={'metal' : epsm, 'vacuum' : epsv}\n",
    "    eps=CoefficientFunction([eps_val[mat] for mat in List_of_mats])\n",
    "    epsinv_val = {'metal' : 1/epsm, 'vacuum' : 1/epsv}\n",
    "    epsinv=CoefficientFunction([epsinv_val[mat] for mat in List_of_mats])\n",
    "    \n",
    "    #create finite element space\n",
    "    fes = H1(mesh, order=order, complex=True)\n",
    "   \n",
    "    #define incident field\n",
    "    Inc = CoefficientFunction(exp(1j*k*y))\n",
    "    diff_Inc_x = Inc.Diff(x)\n",
    "    diff_Inc_y = Inc.Diff(y)\n",
    "    IncNormDrv = CoefficientFunction((1/sqrt(x*x+y*y))*(x*diff_Inc_x+y*diff_Inc_y))\n",
    "    \n",
    "    #prepare and populate linear/bilinear forms\n",
    "    u, v = fes.TnT()\n",
    "    a = BilinearForm(fes)\n",
    "    f = LinearForm(fes)\n",
    "    a += (-1*epsinv*(grad(u)*grad(v)))*dx\n",
    "    a += (k**2*u*v)*dx\n",
    "    ginc = (1/epsv)*(-1*IncNormDrv)\n",
    "    f += (ginc*v)*ds('outer')\n",
    "    \n",
    "    #create DtN\n",
    "    dtn1_array= np.zeros([DtN_tol,2*DtN_tol+1],dtype='object')\n",
    "    dtn_mat=sp.csr_matrix(np.zeros([fes.ndof,fes.ndof],dtype=\"complex\"))\n",
    "    ulm_mat=np.zeros([DtN_tol],dtype=\"complex\")\n",
    "            \n",
    "    rhs_array=np.zeros([fes.ndof],dtype='complex')\n",
    "    print(\"Creating dtn matrices\")\n",
    "    \n",
    "    for l in range(0,DtN_tol):\n",
    "        \n",
    "    \n",
    "            self.ulminc_mat[l,DtN_tol+m] = Integrate(Inc*Conj(exp(i*l*atan2(y,x))),mesh,definedon=mesh.Boundaries(\"outer\"))\n",
    "            \n",
    "            \n",
    "            #create matching constant for dtn expansion\n",
    "            #self.const_mat[l,DtN_tol+m]=self.k*(dhankel(l,self.k*self.R)/hankel(l,self.k*self.R))\n",
    "                    \n",
    "            #create vector associated with v - dtn applied to all phi\n",
    "            #self.dtn1_array[l,DtN_tol+m]= LinearForm(self.fes)\n",
    "            #self.dtn1_array[l,DtN_tol+m] += (v*Conj(NGsolve_Spherical_Harmonic(l,m)))*ds('outer')\n",
    "            #self.dtn1_array[l,DtN_tol+m].Assemble()\n",
    "            #Right hand side - dtn applied to incident field\n",
    "            #constant*u^inc_lm*v_lm\n",
    "            #self.rhs_array += self.const_mat[l,DtN_tol+m]*self.ulminc_mat[l,DtN_tol+m]*np.conjugate(ngvec_to_vec(self.dtn1_array[l,DtN_tol+m].vec))\n",
    "                    \n",
    "            #build vectors\n",
    "                    \n",
    "            #dtn_vec1=np.conjugate(ngvec_to_vec(self.dtn1_array[l,DtN_tol+m].vec))\n",
    "            #dtn_vec2=ngvec_to_vec(self.dtn1_array[l,DtN_tol+m].vec)\n",
    "                    \n",
    "            #rows of the column vector correspond to row values of the matrix - we want the i-th \n",
    "            #row to be associated with a fixed ϕ over which we compose u as a basis of all ϕ\n",
    "            #self.dtn_mat += self.const_mat[l,DtN_tol+m]*(sp.csr_matrix(dtn_vec1).T*sp.csr_matrix(dtn_vec2))\n",
    "            #print(\"Updated matrix with dtn l=\" +str(l)+\" m=\" + str(m))\n"
   ]
  },
  {
   "cell_type": "code",
   "execution_count": 12,
   "metadata": {},
   "outputs": [
    {
     "name": "stdout",
     "output_type": "stream",
     "text": [
      "Creating dtn matrices\n"
     ]
    },
    {
     "ename": "NameError",
     "evalue": "name 'i' is not defined",
     "output_type": "error",
     "traceback": [
      "\u001b[1;31m---------------------------------------------------------------------------\u001b[0m",
      "\u001b[1;31mNameError\u001b[0m                                 Traceback (most recent call last)",
      "Input \u001b[1;32mIn [12]\u001b[0m, in \u001b[0;36m<module>\u001b[1;34m\u001b[0m\n\u001b[1;32m----> 1\u001b[0m \u001b[43mFEM\u001b[49m\u001b[43m(\u001b[49m\u001b[38;5;241;43m-\u001b[39;49m\u001b[38;5;241;43m1.1\u001b[39;49m\u001b[43m,\u001b[49m\u001b[38;5;241;43m2\u001b[39;49m\u001b[43m,\u001b[49m\u001b[38;5;241;43m5\u001b[39;49m\u001b[43m,\u001b[49m\u001b[38;5;241;43m15\u001b[39;49m\u001b[43m)\u001b[49m\n",
      "Input \u001b[1;32mIn [11]\u001b[0m, in \u001b[0;36mFEM\u001b[1;34m(epsm, order, k, DtN_tol)\u001b[0m\n\u001b[0;32m     33\u001b[0m \u001b[38;5;28mprint\u001b[39m(\u001b[38;5;124m\"\u001b[39m\u001b[38;5;124mCreating dtn matrices\u001b[39m\u001b[38;5;124m\"\u001b[39m)\n\u001b[0;32m     35\u001b[0m \u001b[38;5;28;01mfor\u001b[39;00m l \u001b[38;5;129;01min\u001b[39;00m \u001b[38;5;28mrange\u001b[39m(\u001b[38;5;241m0\u001b[39m,DtN_tol):\n\u001b[1;32m---> 38\u001b[0m         \u001b[38;5;28mself\u001b[39m\u001b[38;5;241m.\u001b[39mulminc_mat[l,DtN_tol\u001b[38;5;241m+\u001b[39mm] \u001b[38;5;241m=\u001b[39m Integrate(Inc\u001b[38;5;241m*\u001b[39mConj(exp(\u001b[43mi\u001b[49m\u001b[38;5;241m*\u001b[39ml\u001b[38;5;241m*\u001b[39matan2(y,x))),mesh,definedon\u001b[38;5;241m=\u001b[39mmesh\u001b[38;5;241m.\u001b[39mBoundaries(\u001b[38;5;124m\"\u001b[39m\u001b[38;5;124mouter\u001b[39m\u001b[38;5;124m\"\u001b[39m))\n",
      "\u001b[1;31mNameError\u001b[0m: name 'i' is not defined"
     ]
    }
   ],
   "source": [
    "FEM(-1.1,2,5,15)"
   ]
  },
  {
   "cell_type": "code",
   "execution_count": null,
   "metadata": {},
   "outputs": [],
   "source": []
  }
 ],
 "metadata": {
  "kernelspec": {
   "display_name": "Python 3 (ipykernel)",
   "language": "python",
   "name": "python3"
  },
  "language_info": {
   "codemirror_mode": {
    "name": "ipython",
    "version": 3
   },
   "file_extension": ".py",
   "mimetype": "text/x-python",
   "name": "python",
   "nbconvert_exporter": "python",
   "pygments_lexer": "ipython3",
   "version": "3.8.12"
  }
 },
 "nbformat": 4,
 "nbformat_minor": 4
}
