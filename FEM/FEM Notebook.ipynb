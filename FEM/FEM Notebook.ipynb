{
 "cells": [
  {
   "cell_type": "markdown",
   "metadata": {},
   "source": [
    "## FEM for the clover "
   ]
  },
  {
   "cell_type": "code",
   "execution_count": 6,
   "metadata": {},
   "outputs": [],
   "source": [
    "from ngsolve import *\n",
    "from netgen.read_gmsh import ReadGmsh\n",
    "from netgen.csg import *\n",
    "import numpy as np\n",
    "import meshio\n",
    "import scipy.special as sc\n",
    "import scipy.sparse as sp"
   ]
  },
  {
   "cell_type": "code",
   "execution_count": 2,
   "metadata": {},
   "outputs": [],
   "source": [
    "#create mesh\n",
    "mesh = Mesh(ReadGmsh(\"clover_mesh.msh\"))"
   ]
  },
  {
   "cell_type": "code",
   "execution_count": 5,
   "metadata": {},
   "outputs": [],
   "source": [
    "List_of_mats = ['metal', 'vacuum']\n",
    "hankel = lambda n, k : sc.hankel1(n,k)\n",
    "dhankel = lambda n, k : sc.h1vp(n,k,1)"
   ]
  },
  {
   "cell_type": "code",
   "execution_count": 19,
   "metadata": {},
   "outputs": [],
   "source": [
    "def FEM(epsm,order,k,DtN_tol):\n",
    "    #define epsilon parameter\n",
    "    epsv=1\n",
    "    eps_val={'metal' : epsm, 'vacuum' : epsv}\n",
    "    eps=CoefficientFunction([eps_val[mat] for mat in List_of_mats])\n",
    "    epsinv_val = {'metal' : 1/epsm, 'vacuum' : 1/epsv}\n",
    "    epsinv=CoefficientFunction([epsinv_val[mat] for mat in List_of_mats])\n",
    "    \n",
    "    #create finite element space\n",
    "    fes = H1(mesh, order=order, complex=True)\n",
    "   \n",
    "    #define incident field\n",
    "    Inc = CoefficientFunction(exp(1j*k*y))\n",
    "    diff_Inc_x = Inc.Diff(x)\n",
    "    diff_Inc_y = Inc.Diff(y)\n",
    "    IncNormDrv = CoefficientFunction((1/sqrt(x*x+y*y))*(x*diff_Inc_x+y*diff_Inc_y))\n",
    "    \n",
    "    #prepare and populate linear/bilinear forms\n",
    "    u, v = fes.TnT()\n",
    "    a = BilinearForm(fes)\n",
    "    f = LinearForm(fes)\n",
    "    a += (-1*epsinv*(grad(u)*grad(v)))*dx\n",
    "    a += (k**2*u*v)*dx\n",
    "    ginc = (1/epsv)*(-1*IncNormDrv)\n",
    "    f += (ginc*v)*ds('outer')\n",
    "    \n",
    "    #create DtN\n",
    "    dtn1_array= np.zeros([DtN_tol,2*DtN_tol+1],dtype='object')\n",
    "    dtn_mat=sp.csr_matrix(np.zeros([fes.ndof,fes.ndof],dtype=\"complex\"))\n",
    "    ulminc_mat=np.zeros([DtN_tol],dtype=\"complex\")\n",
    "    ulm_mat=np.zeros([DtN_tol],dtype=\"complex\")\n",
    "            \n",
    "    rhs_array=np.zeros([fes.ndof],dtype='complex')\n",
    "    print(\"Creating dtn matrices\")\n",
    "    \n",
    "    for l in range(0,DtN_tol):\n",
    "        ulminc_mat[l] = Integrate(Inc*Conj(exp(1j*l*atan2(y,x))),mesh,definedon=mesh.Boundaries(\"outer\"))\n",
    "        \n",
    "        #create matching constant for dtn expansion\n",
    "        self.const_mat[l]=k*(dhankel(l,self.k*self.R)/hankel(l,self.k*self.R))\n",
    "                    \n",
    "        #create vector associated with v - dtn applied to all phi\n",
    "        \n",
    "            #self.dtn1_array[l,DtN_tol+m]= LinearForm(self.fes)\n",
    "            #self.dtn1_array[l,DtN_tol+m] += (v*Conj(NGsolve_Spherical_Harmonic(l,m)))*ds('outer')\n",
    "            #self.dtn1_array[l,DtN_tol+m].Assemble()\n",
    "            #Right hand side - dtn applied to incident field\n",
    "            #constant*u^inc_lm*v_lm\n",
    "            #self.rhs_array += self.const_mat[l,DtN_tol+m]*self.ulminc_mat[l,DtN_tol+m]*np.conjugate(ngvec_to_vec(self.dtn1_array[l,DtN_tol+m].vec))\n",
    "                    \n",
    "            #build vectors\n",
    "                    \n",
    "            #dtn_vec1=np.conjugate(ngvec_to_vec(self.dtn1_array[l,DtN_tol+m].vec))\n",
    "            #dtn_vec2=ngvec_to_vec(self.dtn1_array[l,DtN_tol+m].vec)\n",
    "                    \n",
    "            #rows of the column vector correspond to row values of the matrix - we want the i-th \n",
    "            #row to be associated with a fixed ϕ over which we compose u as a basis of all ϕ\n",
    "            #self.dtn_mat += self.const_mat[l,DtN_tol+m]*(sp.csr_matrix(dtn_vec1).T*sp.csr_matrix(dtn_vec2))\n",
    "            #print(\"Updated matrix with dtn l=\" +str(l)+\" m=\" + str(m))\n"
   ]
  },
  {
   "cell_type": "code",
   "execution_count": 20,
   "metadata": {
    "scrolled": true
   },
   "outputs": [
    {
     "name": "stdout",
     "output_type": "stream",
     "text": [
      "Creating dtn matrices\n"
     ]
    }
   ],
   "source": [
    "FEM(-1.1,2,5,15)"
   ]
  },
  {
   "cell_type": "code",
   "execution_count": null,
   "metadata": {},
   "outputs": [],
   "source": []
  }
 ],
 "metadata": {
  "kernelspec": {
   "display_name": "Python 3 (ipykernel)",
   "language": "python",
   "name": "python3"
  },
  "language_info": {
   "codemirror_mode": {
    "name": "ipython",
    "version": 3
   },
   "file_extension": ".py",
   "mimetype": "text/x-python",
   "name": "python",
   "nbconvert_exporter": "python",
   "pygments_lexer": "ipython3",
   "version": "3.8.12"
  }
 },
 "nbformat": 4,
 "nbformat_minor": 4
}
