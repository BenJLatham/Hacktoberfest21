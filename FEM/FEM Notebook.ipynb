{
 "cells": [
  {
   "cell_type": "markdown",
   "metadata": {},
   "source": [
    "## FEM for the clover "
   ]
  },
  {
   "cell_type": "code",
   "execution_count": 4,
   "metadata": {},
   "outputs": [],
   "source": [
    "from ngsolve import *\n",
    "from netgen.read_gmsh import ReadGmsh\n",
    "from netgen.csg import *\n",
    "import numpy as np\n",
    "import meshio"
   ]
  },
  {
   "cell_type": "code",
   "execution_count": 16,
   "metadata": {},
   "outputs": [],
   "source": [
    "#create mesh\n",
    "mesh = Mesh(ReadGmsh(\"clover_mesh.msh\"))"
   ]
  },
  {
   "cell_type": "code",
   "execution_count": 17,
   "metadata": {},
   "outputs": [],
   "source": [
    "List_of_mats = ['metal', 'vacuum']"
   ]
  },
  {
   "cell_type": "code",
   "execution_count": 18,
   "metadata": {},
   "outputs": [],
   "source": [
    "def FEM(epsm,order):\n",
    "    epsv=1\n",
    "    eps_val={'metal' : epsm, 'vacuum' : epsv}\n",
    "    eps=CoefficientFunction([eps_val[mat] for mat in List_of_mats])\n",
    "    epsinv_val = {'metal' : 1/epsm, 'vacuum' : 1/epsv}\n",
    "    epsinv=CoefficientFunction([epsinv_val[mat] for mat in List_of_mats])\n",
    "    fes = H1(mesh, order=order, complex=True)\n",
    "    "
   ]
  },
  {
   "cell_type": "code",
   "execution_count": 20,
   "metadata": {},
   "outputs": [],
   "source": [
    "FEM(-1.1,2)"
   ]
  },
  {
   "cell_type": "code",
   "execution_count": null,
   "metadata": {},
   "outputs": [],
   "source": []
  }
 ],
 "metadata": {
  "kernelspec": {
   "display_name": "Python 3 (ipykernel)",
   "language": "python",
   "name": "python3"
  },
  "language_info": {
   "codemirror_mode": {
    "name": "ipython",
    "version": 3
   },
   "file_extension": ".py",
   "mimetype": "text/x-python",
   "name": "python",
   "nbconvert_exporter": "python",
   "pygments_lexer": "ipython3",
   "version": "3.8.3"
  }
 },
 "nbformat": 4,
 "nbformat_minor": 4
}
