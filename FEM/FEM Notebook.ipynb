{
 "cells": [
  {
   "cell_type": "markdown",
   "metadata": {},
   "source": [
    "## FEM for the clover "
   ]
  },
  {
   "cell_type": "code",
   "execution_count": 1,
   "metadata": {},
   "outputs": [],
   "source": [
    "from ngsolve import *\n",
    "from netgen.read_gmsh import ReadGmsh\n",
    "from netgen.csg import *\n",
    "import numpy as np\n",
    "import meshio"
   ]
  },
  {
   "cell_type": "code",
   "execution_count": 2,
   "metadata": {},
   "outputs": [],
   "source": [
    "#create mesh\n",
    "mesh = Mesh(ReadGmsh(\"clover_mesh.msh\"))"
   ]
  },
  {
   "cell_type": "code",
   "execution_count": 3,
   "metadata": {},
   "outputs": [],
   "source": [
    "List_of_mats = ['metal', 'vacuum']"
   ]
  },
  {
   "cell_type": "code",
   "execution_count": 12,
   "metadata": {},
   "outputs": [],
   "source": [
    "def FEM(epsm,order,k):\n",
    "    #define epsilon parameter\n",
    "    epsv=1\n",
    "    eps_val={'metal' : epsm, 'vacuum' : epsv}\n",
    "    eps=CoefficientFunction([eps_val[mat] for mat in List_of_mats])\n",
    "    epsinv_val = {'metal' : 1/epsm, 'vacuum' : 1/epsv}\n",
    "    epsinv=CoefficientFunction([epsinv_val[mat] for mat in List_of_mats])\n",
    "    \n",
    "    #create finite element space\n",
    "    fes = H1(mesh, order=order, complex=True)\n",
    "   \n",
    "    #define incident field\n",
    "    Inc = CoefficientFunction(exp(1j*k*y))\n",
    "    diff_Inc_x = Inc.Diff(x)\n",
    "    diff_Inc_y = Inc.Diff(y)\n",
    "    IncNormDrv = CoefficientFunction((1/sqrt(x*x+y*y))*(x*diff_Inc_x+y*diff_Inc_y))\n",
    "    \n",
    "    #prepare and populate linear/bilinear forms\n",
    "    u, v = fes.TnT()\n",
    "    a = BilinearForm(fes)\n",
    "    f = LinearForm(fes)\n",
    "    a += (-1*epsinv*(grad(u)*grad(v)))*dx\n",
    "    a += (k**2*u*v)*dx\n",
    "    ginc = (1/epsv)*(-1*IncNormDrv)\n",
    "    f += (ginc*v)*ds('outer')\n",
    "    \n",
    "    #create DtN\n",
    "    \n"
   ]
  },
  {
   "cell_type": "code",
   "execution_count": 13,
   "metadata": {},
   "outputs": [],
   "source": [
    "FEM(-1.1,2,5)"
   ]
  },
  {
   "cell_type": "code",
   "execution_count": null,
   "metadata": {},
   "outputs": [],
   "source": []
  }
 ],
 "metadata": {
  "kernelspec": {
   "display_name": "Python 3 (ipykernel)",
   "language": "python",
   "name": "python3"
  },
  "language_info": {
   "codemirror_mode": {
    "name": "ipython",
    "version": 3
   },
   "file_extension": ".py",
   "mimetype": "text/x-python",
   "name": "python",
   "nbconvert_exporter": "python",
   "pygments_lexer": "ipython3",
   "version": "3.8.3"
  }
 },
 "nbformat": 4,
 "nbformat_minor": 4
}
